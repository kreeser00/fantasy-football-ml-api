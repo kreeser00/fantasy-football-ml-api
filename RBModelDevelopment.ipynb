{
 "cells": [
  {
   "cell_type": "code",
   "execution_count": 1,
   "metadata": {},
   "outputs": [],
   "source": [
    "%matplotlib inline\n",
    "import json\n",
    "import dateutil.parser\n",
    "import matplotlib.pyplot as plt\n",
    "import numpy as np\n",
    "import pandas as pd\n",
    "import pickle\n",
    "import sys, os\n",
    "import boto3\n",
    "\n",
    "sys.path.append('.\\\\app\\\\util')\n",
    "from FantasyFootballOffense import calc_past_offensive_fantasy_values\n",
    "\n",
    "statDict = dict()\n",
    "seasonsList = list()\n",
    "\n",
    "#1. Get the game stats for each RB for every year they have played\n",
    "s3 = boto3.resource('s3')\n",
    "try:\n",
    "    gamesObj = s3.Object('fantasyfootballdata', 'games_RB_train.json')\n",
    "    gamesDf = pd.read_json(gamesObj.get()['Body'].read().decode('utf-8'))\n",
    "    gamesDf.sort_values(by=['player_id'])\n",
    "\n",
    "except botocore.exceptions.ClientError as e:\n",
    "    # If a client error is thrown, then check that it was a 404 error.\n",
    "    # If it was a 404 error, then the bucket does not exist.\n",
    "    error_code = int(e.response['Error']['Code'])\n",
    "    print(error_code)\n",
    "\n",
    "#2. Loop through RB player_id's and calculate fantasy values\n",
    "#3. Record the number of seasons played for lifespan study of the RB position\n",
    "for player_id in gamesDf.player_id.unique():\n",
    "    career = gamesDf.loc[gamesDf.player_id == player_id]\n",
    "    if career is not None and len(career) > 0:\n",
    "        seasons = calc_past_offensive_fantasy_values(career)\n",
    "        if(len(seasons) > 0):\n",
    "            statDict[player_id] = seasons\n",
    "            seasonsList.append(len(seasons))"
   ]
  },
  {
   "cell_type": "code",
   "execution_count": 2,
   "metadata": {},
   "outputs": [
    {
     "data": {
      "image/png": "[encoded data removed]",
      "text/plain": [
       "<Figure size 432x288 with 1 Axes>"
      ]
     },
     "metadata": {
      "needs_background": "light"
     },
     "output_type": "display_data"
    }
   ],
   "source": [
    "#4. Perform lifespan study for the RB position; then comment this out.\n",
    "plt.hist(seasonsList, bins=18)\n",
    "plt.xticks(np.arange(0, 18, step=1))\n",
    "plt.show()\n",
    "\n",
    "#5. Calculate the prime age curve for the RB position\n",
    "#rbStatDfNoFill = pd.DataFrame(dict([ (k,pd.Series(v)) for k,v in rbStatDict.items()]))\n",
    "#rbStatDfWithFill = rbStatDfNoFill.fillna(0)\n",
    "#rbStatDfWithFill['averageWithFill'] = rbStatDfWithFill.mean(axis=1)\n",
    "#rbStatDfWithFill['averageNoFill'] = rbStatDfNoFill.mean(axis=1)\n",
    "#rbStatDfWithFill['averageOverall'] = (rbStatDfWithFill['averageWithFill'] + rbStatDfWithFill['averageNoFill']) / 2\n",
    "#rbStatDfWithFill.to_csv(\"C:\\\\Users\\\\kjree\\\\Workspaces\\\\ml-fantasy-football-model\\\\rb_fantasy_values.csv\", index=False, encoding='utf8')\n",
    "#p7 = np.poly1d(np.polyfit(rbStatDfWithFill.index, rbStatDfWithFill['averageOverall'], 7))\n",
    "#xp = np.linspace(0,27,100)\n",
    "#plt.scatter(rbStatDfWithFill.index, rbStatDfWithFill['averageOverall'])\n",
    "#plt.plot(xp, p7(xp), c='r')\n",
    "#plt.show()\n",
    "\n",
    "#6. Aspect B of the NFL Player Model:\n",
    "# Group all RB's into top 0-20%,21-40%,41-60%,61-80%, and 81-100% based on last year's fantasy values\n",
    "#rbLastYearStatDict = dict()\n",
    "#for key in rbCareerDict.keys():\n",
    "#    career = rbCareerDict[key]\n",
    "#    if career is not None and len(career) > 0:\n",
    "#        lastYear = calcPastFantasyPointValue(career, 2017)\n",
    "#        if lastYear is not None:\n",
    "#            rbLastYearStatDict[key] = lastYear"
   ]
  },
  {
   "cell_type": "code",
   "execution_count": 48,
   "metadata": {},
   "outputs": [
    {
     "name": "stdout",
     "output_type": "stream",
     "text": [
      "0.98586056587\n"
     ]
    }
   ],
   "source": [
    "#from sklearn.metrics import r2_score\n",
    "\n",
    "#r2 = r2_score(rbStatDfWithFill['averageOverall'], p7(rbStatDfWithFill.index))\n",
    "\n",
    "#print(r2)"
   ]
  },
  {
   "cell_type": "code",
   "execution_count": null,
   "metadata": {
    "collapsed": true
   },
   "outputs": [],
   "source": []
  }
 ],
 "metadata": {
  "kernelspec": {
   "display_name": "Python (fantasyfootballenv)",
   "language": "python",
   "name": "fantasyfootballenv"
  },
  "language_info": {
   "codemirror_mode": {
    "name": "ipython",
    "version": 3
   },
   "file_extension": ".py",
   "mimetype": "text/x-python",
   "name": "python",
   "nbconvert_exporter": "python",
   "pygments_lexer": "ipython3",
   "version": "3.6.6"
  }
 },
 "nbformat": 4,
 "nbformat_minor": 2
}
