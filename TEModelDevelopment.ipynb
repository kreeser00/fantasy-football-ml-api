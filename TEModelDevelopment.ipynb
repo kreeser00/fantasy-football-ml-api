{
 "cells": [
  {
   "cell_type": "code",
   "execution_count": 1,
   "metadata": {
    "collapsed": true,
    "deletable": true,
    "editable": true
   },
   "outputs": [],
   "source": [
    "%matplotlib inline\n",
    "import json\n",
    "import dateutil.parser\n",
    "import matplotlib.pyplot as plt\n",
    "import numpy as np\n",
    "import pandas as pd\n",
    "import pickle\n",
    "import sys, os\n",
    "import boto3\n",
    "\n",
    "sys.path.append('.\\\\app\\\\util')\n",
    "from FantasyFootballOffense import calc_past_offensive_fantasy_values\n",
    "\n",
    "statDict = dict()\n",
    "seasonsList = list()\n",
    "\n",
    "#1. Get the game stats for each TE for every year they have played\n",
    "s3 = boto3.resource('s3')\n",
    "try:\n",
    "    gamesObj = s3.Object('fantasyfootballdata', 'games_TE_train.json')\n",
    "    gamesDf = pd.read_json(gamesObj.get()['Body'].read().decode('utf-8'))\n",
    "    gamesDf.sort_values(by=['player_id'])\n",
    "\n",
    "except botocore.exceptions.ClientError as e:\n",
    "    # If a client error is thrown, then check that it was a 404 error.\n",
    "    # If it was a 404 error, then the bucket does not exist.\n",
    "    error_code = int(e.response['Error']['Code'])\n",
    "    print(error_code)\n",
    "\n",
    "#2. Loop through TE player_id's and calculate fantasy values\n",
    "#3. Record the number of seasons played for lifespan study of the TE position\n",
    "for player_id in gamesDf.player_id.unique():\n",
    "    career = gamesDf.loc[gamesDf.player_id == player_id]\n",
    "    if career is not None and len(career) > 0:\n",
    "        seasons = calc_past_offensive_fantasy_values(career)\n",
    "        if(len(seasons) > 0):\n",
    "            statDict[player_id] = seasons\n",
    "            seasonsList.append(len(seasons))"
   ]
  },
  {
   "cell_type": "code",
   "execution_count": 12,
   "metadata": {
    "collapsed": false,
    "deletable": true,
    "editable": true
   },
   "outputs": [
    {
     "data": {
      "image/png": "[encoded data removed]",
      "text/plain": [
       "<matplotlib.figure.Figure at 0x170a3809860>"
      ]
     },
     "metadata": {},
     "output_type": "display_data"
    }
   ],
   "source": [
    "#4. Perform lifespan study for the TE position; then comment this out.\n",
    "plt.hist(seasonsList, bins=21)\n",
    "plt.xticks(np.arange(0, 21, step=1))\n",
    "plt.show()\n",
    "\n",
    "#5. Calculate the prime age curve for the WR position\n",
    "#teStatDfNoFill = pd.DataFrame(dict([ (k,pd.Series(v)) for k,v in teStatDict.items()]))\n",
    "#teStatDfWithFill = teStatDfNoFill.fillna(0)\n",
    "#teStatDfWithFill['averageWithFill'] = teStatDfWithFill.mean(axis=1)\n",
    "#teStatDfWithFill['averageNoFill'] = teStatDfNoFill.mean(axis=1)\n",
    "#teStatDfWithFill['averageOverall'] = (tesStatDfWithFill['averageWithFill'] + teStatDfWithFill['averageNoFill']) / 2\n",
    "#teStatDfWithFill.to_csv(\"C:\\\\Users\\\\kjree\\\\Workspaces\\\\ml-fantasy-football-model\\\\te_fantasy_values.csv\", index=False, encoding='utf8')\n",
    "#p7 = np.poly1d(np.polyfit(teStatDfWithFill.index, teStatDfWithFill['averageOverall'], 7))\n",
    "#xp = np.linspace(0,27,100)\n",
    "#plt.scatter(teStatDfWithFill.index, teStatDfWithFill['averageOverall'])\n",
    "#plt.plot(xp, p7(xp), c='r')\n",
    "#plt.show()\n",
    "\n",
    "#6. Aspect B of the NFL Player Model:\n",
    "# Group all TE's into top 0-20%,21-40%,41-60%,61-80%, and 81-100% based on last year's fantasy values\n",
    "#teLastYearStatDict = dict()\n",
    "#for key in teCareerDict.keys():\n",
    "#    career = teCareerDict[key]\n",
    "#    if career is not None and len(career) > 0:\n",
    "#        lastYear = calcPastFantasyPointValue(career, 2017)\n",
    "#        if lastYear is not None:\n",
    "#            teLastYearStatDict[key] = lastYear"
   ]
  },
  {
   "cell_type": "code",
   "execution_count": null,
   "metadata": {
    "collapsed": true,
    "deletable": true,
    "editable": true
   },
   "outputs": [],
   "source": []
  }
 ],
 "metadata": {
  "kernelspec": {
   "display_name": "Python 3",
   "language": "python",
   "name": "python3"
  },
  "language_info": {
   "codemirror_mode": {
    "name": "ipython",
    "version": 3
   },
   "file_extension": ".py",
   "mimetype": "text/x-python",
   "name": "python",
   "nbconvert_exporter": "python",
   "pygments_lexer": "ipython3",
   "version": "3.5.2"
  }
 },
 "nbformat": 4,
 "nbformat_minor": 2
}
