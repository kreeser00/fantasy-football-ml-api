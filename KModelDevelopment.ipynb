{
 "cells": [
  {
   "cell_type": "code",
   "execution_count": 12,
   "metadata": {},
   "outputs": [],
   "source": [
    "%matplotlib inline\n",
    "import json\n",
    "import dateutil.parser\n",
    "import numpy as np\n",
    "import pandas as pd\n",
    "import matplotlib.pyplot as plt\n",
    "import pickle\n",
    "import sys, os\n",
    "\n",
    "sys.path.append('C:\\\\Users\\\\kjree\\\\Workspaces\\\\ml-fantasy-football-model\\\\src\\\\model_util')\n",
    "from FantasyFootballSpecialTeams import calcCareerFantasyPointValues\n",
    "\n",
    "kCareerDict = dict()\n",
    "kStatDict = dict()\n",
    "kSeasonsList = list()\n",
    "kStatDf = pd.DataFrame()\n",
    "\n",
    "#1. Get the game stats for each K for every year they have played\n",
    "with open('C:\\\\Users\\\\kjree\\\\Workspaces\\\\nfl-player-stats\\\\games_K.json') as gf:\n",
    "    games = json.load(gf)\n",
    "    for game in games:\n",
    "        playerid = game['player_id']\n",
    "        if kCareerDict.get(playerid) is not None:\n",
    "            kCareerDict[playerid].append(game)\n",
    "        else:\n",
    "            kCareerDict[playerid] = []\n",
    "\n",
    "#2. Loop through K player_id's and calculate fantasy values\n",
    "#3. Record the number of seasons played for lifespan study of the K position\n",
    "for key in kCareerDict.keys():\n",
    "    career = kCareerDict[key]\n",
    "    if career is not None and len(career) > 0:\n",
    "        seasons = calcCareerFantasyPointValues(career)\n",
    "        if(len(seasons) > 0):\n",
    "            kStatDict[key] = seasons\n",
    "            kSeasonsList.append(len(seasons))"
   ]
  },
  {
   "cell_type": "code",
   "execution_count": 21,
   "metadata": {},
   "outputs": [
    {
     "data": {
      "image/png": "[encoded data removed]",
      "text/plain": [
       "<matplotlib.figure.Figure at 0x29f65f13e10>"
      ]
     },
     "metadata": {},
     "output_type": "display_data"
    }
   ],
   "source": [
    "#4. Perform lifespan study for the K position; then comment this out.\n",
    "plt.hist(kSeasonsList, bins=26)\n",
    "plt.xticks(np.arange(0, 26, step=1))\n",
    "plt.show()\n",
    "\n",
    "#5. Calculate the prime age curve for the K position\n",
    "#kStatDfNoFill = pd.DataFrame(dict([ (k,pd.Series(v)) for k,v in kStatDict.items()]))\n",
    "#kStatDfWithFill = kStatDfNoFill.fillna(0)\n",
    "#kStatDfWithFill['averageWithFill'] = kStatDfWithFill.mean(axis=1)\n",
    "#kStatDfWithFill['averageNoFill'] = kStatDfNoFill.mean(axis=1)\n",
    "#kStatDfWithFill['averageOverall'] = (ksStatDfWithFill['averageWithFill'] + kStatDfWithFill['averageNoFill']) / 2\n",
    "#kStatDfWithFill.to_csv(\"C:\\\\Users\\\\kjree\\\\Workspaces\\\\ml-fantasy-football-model\\\\k_fantasy_values.csv\", index=False, encoding='utf8')\n",
    "#p7 = np.poly1d(np.polyfit(kStatDfWithFill.index, kStatDfWithFill['averageOverall'], 7))\n",
    "#xp = np.linspace(0,27,100)\n",
    "#plt.scatter(kStatDfWithFill.index, kStatDfWithFill['averageOverall'])\n",
    "#plt.plot(xp, p7(xp), c='r')\n",
    "#plt.show()\n",
    "\n",
    "#6. Aspect B of the NFL Player Model:\n",
    "# Group all K's into top 0-20%,21-40%,41-60%,61-80%, and 81-100% based on last year's fantasy values\n",
    "#kLastYearStatDict = dict()\n",
    "#for key in kCareerDict.keys():\n",
    "#    career = kCareerDict[key]\n",
    "#    if career is not None and len(career) > 0:\n",
    "#        lastYear = calcPastFantasyPointValue(career, 2017)\n",
    "#        if lastYear is not None:\n",
    "#            kLastYearStatDict[key] = lastYear"
   ]
  },
  {
   "cell_type": "code",
   "execution_count": 48,
   "metadata": {},
   "outputs": [
    {
     "name": "stdout",
     "output_type": "stream",
     "text": [
      "0.98586056587\n"
     ]
    }
   ],
   "source": [
    "#from sklearn.metrics import r2_score\n",
    "\n",
    "#r2 = r2_score(kStatDfWithFill['averageOverall'], p7(kStatDfWithFill.index))\n",
    "\n",
    "#print(r2)"
   ]
  },
  {
   "cell_type": "code",
   "execution_count": null,
   "metadata": {
    "collapsed": true
   },
   "outputs": [],
   "source": []
  }
 ],
 "metadata": {
  "kernelspec": {
   "display_name": "Python 3",
   "language": "python",
   "name": "python3"
  },
  "language_info": {
   "codemirror_mode": {
    "name": "ipython",
    "version": 3
   },
   "file_extension": ".py",
   "mimetype": "text/x-python",
   "name": "python",
   "nbconvert_exporter": "python",
   "pygments_lexer": "ipython3",
   "version": "3.6.5"
  }
 },
 "nbformat": 4,
 "nbformat_minor": 2
}
