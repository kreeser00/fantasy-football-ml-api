{
 "cells": [
  {
   "cell_type": "code",
   "execution_count": 1,
   "metadata": {},
   "outputs": [],
   "source": [
    "##################################################################\n",
    "#\n",
    "# QBTopPerformerModel.ipynb\n",
    "#\n",
    "# Description: Train a classification model that classifies a QB\n",
    "#   with a performance rank with respect to fantasy value last\n",
    "#   season.\n",
    "# Author: Ken Reeser\n",
    "# Since: 2018-08-28\n",
    "#\n",
    "##################################################################\n",
    "\n",
    "%matplotlib inline\n",
    "import json\n",
    "import matplotlib.pyplot as plt\n",
    "import numpy as np\n",
    "import pandas as pd\n",
    "import pickle\n",
    "import math\n",
    "import sys, os\n",
    "\n",
    "sys.path.append('.\\\\src\\\\model_util')\n",
    "from FantasyFootballOffense import calcPastOffensiveFantasyValue\n",
    "\n",
    "lastyear = 2017\n",
    "statList = list()\n",
    "\n",
    "#1. Get the game stats for each QB for every year they have played\n",
    "#profileDf = pd.read_json('C:\\\\Users\\\\kjree\\\\Workspaces\\\\nfl-player-stats\\\\profile_QB_train.json')\n",
    "\n",
    "gamesDf = pd.read_json('C:\\\\Users\\\\kjree\\\\Workspaces\\\\nfl-player-stats\\\\games_QB_train.json')\n",
    "gamesDf.sort_values(by=['player_id'])\n",
    "\n",
    "#2. Loop through QB player_id's and calculate fantasy values last year\n",
    "statDf = pd.DataFrame(columns=['player_id','value_last_season'])\n",
    "for player_id in gamesDf.player_id.unique():\n",
    "    career = gamesDf.loc[gamesDf.player_id == player_id]\n",
    "    if career is not None and len(career) > 0:\n",
    "        valueLastSeason = calcPastOffensiveFantasyValue(career,lastyear)\n",
    "        if(valueLastSeason > 0):\n",
    "            statList.append((player_id,valueLastSeason))\n",
    "            #3. Perform fantasy value study for the QB position last year; then comment this out.\n",
    "            #playerName = profileDf.loc[profileDf.player_id == player_id].name.get_values()\n",
    "            #print(\"Name: \", playerName, \"Value: \", valueLastSeason)\n",
    "statDf = pd.concat([pd.DataFrame([i], columns=['player_id','value_last_season']) for i in statList], ignore_index=True)\n"
   ]
  },
  {
   "cell_type": "code",
   "execution_count": 26,
   "metadata": {},
   "outputs": [
    {
     "data": {
      "image/png": "[encoded data removed]",
      "text/plain": [
       "<Figure size 432x288 with 1 Axes>"
      ]
     },
     "metadata": {},
     "output_type": "display_data"
    },
    {
     "name": "stdout",
     "output_type": "stream",
     "text": [
      "Model is SAVED!\n"
     ]
    }
   ],
   "source": [
    "#3. Perform fantasy value study for the QB position last year\n",
    "#Sort Data\n",
    "statDf.sort_values(by=['value_last_season'],ascending=False,inplace=True)\n",
    "#Scatter plot the fantasy values last season for the QB training data\n",
    "plt.scatter(np.arange(0,34,1), statDf.value_last_season)\n",
    "#plt.show()\n",
    "\n",
    "#4. Classify fantasy value last year\n",
    "# Calculating 20th,40th,60th,80th,and 100th quantiles\n",
    "rank, qbins = pd.qcut(statDf['value_last_season'],q=[0.0,0.2,0.4,0.6,0.8,1.0],retbins=True)\n",
    "statDf['rank'] = [x.left for x in pd.cut(statDf['value_last_season'], bins=qbins, include_lowest=True)]\n",
    "statDf['rank'] = statDf['rank'].astype(np.int64)\n",
    "#print(statDf)\n",
    "\n",
    "plt.bar(np.arange(0,34,1),statDf['rank'])\n",
    "plt.show()\n",
    "\n",
    "#5. Save the QB top performer model to disk\n",
    "filename = \"C:\\\\Users\\\\kjree\\\\Workspaces\\\\ml-fantasy-football-model\\\\src\\\\model_data\\\\qb_top_performer_model.pkl\"\n",
    "pickle.dump(qbins, open(filename, 'wb'))\n",
    "print(\"Model is SAVED!\")\n"
   ]
  },
  {
   "cell_type": "code",
   "execution_count": null,
   "metadata": {},
   "outputs": [],
   "source": []
  }
 ],
 "metadata": {
  "kernelspec": {
   "display_name": "Python 3",
   "language": "python",
   "name": "python3"
  },
  "language_info": {
   "codemirror_mode": {
    "name": "ipython",
    "version": 3
   },
   "file_extension": ".py",
   "mimetype": "text/x-python",
   "name": "python",
   "nbconvert_exporter": "python",
   "pygments_lexer": "ipython3",
   "version": "3.6.5"
  }
 },
 "nbformat": 4,
 "nbformat_minor": 2
}
