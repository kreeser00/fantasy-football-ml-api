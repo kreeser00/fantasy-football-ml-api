{
 "cells": [
  {
   "cell_type": "code",
   "execution_count": 1,
   "metadata": {},
   "outputs": [
    {
     "ename": "NameError",
     "evalue": "name 'obj' is not defined",
     "traceback": [
      "\u001b[1;31m---------------------------------------------------------------------------\u001b[0m",
      "\u001b[1;31mNameError\u001b[0m                                 Traceback (most recent call last)",
      "\u001b[1;32m<ipython-input-1-2c8c43093454>\u001b[0m in \u001b[0;36m<module>\u001b[1;34m()\u001b[0m\n\u001b[0;32m     35\u001b[0m \u001b[1;33m\u001b[0m\u001b[0m\n\u001b[0;32m     36\u001b[0m     \u001b[0mgamesObj\u001b[0m \u001b[1;33m=\u001b[0m \u001b[0ms3\u001b[0m\u001b[1;33m.\u001b[0m\u001b[0mObject\u001b[0m\u001b[1;33m(\u001b[0m\u001b[1;34m'fantasyfootballdata'\u001b[0m\u001b[1;33m,\u001b[0m \u001b[1;34m'games_QB_train.json'\u001b[0m\u001b[1;33m)\u001b[0m\u001b[1;33m\u001b[0m\u001b[0m\n\u001b[1;32m---> 37\u001b[1;33m     \u001b[0mgamesDf\u001b[0m \u001b[1;33m=\u001b[0m \u001b[0mpd\u001b[0m\u001b[1;33m.\u001b[0m\u001b[0mread_json\u001b[0m\u001b[1;33m(\u001b[0m\u001b[0mobj\u001b[0m\u001b[1;33m.\u001b[0m\u001b[0mget\u001b[0m\u001b[1;33m(\u001b[0m\u001b[1;33m)\u001b[0m\u001b[1;33m[\u001b[0m\u001b[1;34m'Body'\u001b[0m\u001b[1;33m]\u001b[0m\u001b[1;33m.\u001b[0m\u001b[0mread\u001b[0m\u001b[1;33m(\u001b[0m\u001b[1;33m)\u001b[0m\u001b[1;33m.\u001b[0m\u001b[0mdecode\u001b[0m\u001b[1;33m(\u001b[0m\u001b[1;34m'utf-8'\u001b[0m\u001b[1;33m)\u001b[0m\u001b[1;33m)\u001b[0m\u001b[1;33m\u001b[0m\u001b[0m\n\u001b[0m\u001b[0;32m     38\u001b[0m     \u001b[0mgamesDf\u001b[0m\u001b[1;33m.\u001b[0m\u001b[0msort_values\u001b[0m\u001b[1;33m(\u001b[0m\u001b[0mby\u001b[0m\u001b[1;33m=\u001b[0m\u001b[1;33m[\u001b[0m\u001b[1;34m'player_id'\u001b[0m\u001b[1;33m]\u001b[0m\u001b[1;33m)\u001b[0m\u001b[1;33m\u001b[0m\u001b[0m\n\u001b[0;32m     39\u001b[0m \u001b[1;33m\u001b[0m\u001b[0m\n",
      "\u001b[1;31mNameError\u001b[0m: name 'obj' is not defined"
     ],
     "output_type": "error"
    }
   ],
   "source": [
    "##################################################################\n",
    "#\n",
    "# QBTopPerformerModel.ipynb\n",
    "#\n",
    "# Description: Train a classification model that classifies a QB\n",
    "#   with a performance rank with respect to fantasy value last\n",
    "#   season.\n",
    "# Author: Ken Reeser\n",
    "# Since: 2018-08-28\n",
    "#\n",
    "##################################################################\n",
    "\n",
    "%matplotlib inline\n",
    "import json\n",
    "import matplotlib.pyplot as plt\n",
    "import numpy as np\n",
    "import pandas as pd\n",
    "import pickle\n",
    "import math\n",
    "import sys, os\n",
    "import boto3\n",
    "import botocore\n",
    "\n",
    "sys.path.append('.\\\\app\\\\util')\n",
    "from FantasyFootballOffense import calc_past_offensive_fantasy_value\n",
    "\n",
    "lastyear = 2017\n",
    "statList = list()\n",
    "\n",
    "#1. Get the game stats for each QB for every year they have played\n",
    "s3 = boto3.resource('s3')\n",
    "try:\n",
    "    #profileObj = s3.Object('fantasyfootballdata', 'profile_QB_train.json')\n",
    "    #profileDf = pd.read_json(profileObj.get()['Body'].read().decode('utf-8'))\n",
    "    \n",
    "    gamesObj = s3.Object('fantasyfootballdata', 'games_QB_train.json')\n",
    "    gamesDf = pd.read_json(gamesObj.get()['Body'].read().decode('utf-8'))\n",
    "    gamesDf.sort_values(by=['player_id'])\n",
    "\n",
    "except botocore.exceptions.ClientError as e:\n",
    "    # If a client error is thrown, then check that it was a 404 error.\n",
    "    # If it was a 404 error, then the bucket does not exist.\n",
    "    error_code = int(e.response['Error']['Code'])\n",
    "    print(error_code)\n",
    "\n",
    "#2. Loop through QB player_id's and calculate fantasy values last year\n",
    "statDf = pd.DataFrame(columns=['player_id','value_last_season'])\n",
    "for player_id in gamesDf.player_id.unique():\n",
    "    career = gamesDf.loc[gamesDf.player_id == player_id]\n",
    "    if career is not None and len(career) > 0:\n",
    "        valueLastSeason = calc_past_offensive_fantasy_value(career,lastyear)\n",
    "        if(valueLastSeason > 0):\n",
    "            statList.append((player_id,valueLastSeason))\n",
    "            #3. Perform fantasy value study for the QB position last year; then comment this out.\n",
    "            #playerName = profileDf.loc[profileDf.player_id == player_id].name.get_values()\n",
    "            #print(\"Name: \", playerName, \"Value: \", valueLastSeason)\n",
    "statDf = pd.concat([pd.DataFrame([i], columns=['player_id','value_last_season']) for i in statList], ignore_index=True)\n"
   ]
  },
  {
   "cell_type": "code",
   "execution_count": null,
   "metadata": {},
   "outputs": [],
   "source": [
    "#3. Perform fantasy value study for the QB position last year\n",
    "#Sort Data\n",
    "statDf.sort_values(by=['value_last_season'],ascending=False,inplace=True)\n",
    "#Scatter plot the fantasy values last season for the QB training data\n",
    "plt.scatter(np.arange(0,34,1), statDf.value_last_season)\n",
    "#plt.show()\n",
    "\n",
    "#4. Classify fantasy value last year\n",
    "# Calculating 20th,40th,60th,80th,and 100th quantiles\n",
    "rank, qbins = pd.qcut(statDf['value_last_season'],q=[0.0,0.2,0.4,0.6,0.8,1.0],retbins=True)\n",
    "statDf['rank'] = [x.left for x in pd.cut(statDf['value_last_season'], bins=qbins, include_lowest=True)]\n",
    "statDf['rank'] = statDf['rank'].astype(np.int64)\n",
    "#print(statDf)\n",
    "\n",
    "plt.bar(np.arange(0,34,1),statDf['rank'])\n",
    "plt.show()\n",
    "\n",
    "#5. Save the QB top performer model to disk\n",
    "filename = \".\\\\app\\\\data\\\\qb_top_performer_model.pkl\"\n",
    "pickle.dump(qbins, open(filename, 'wb'))\n",
    "print(\"Model is SAVED!\")\n"
   ]
  },
  {
   "cell_type": "code",
   "execution_count": null,
   "metadata": {},
   "outputs": [],
   "source": []
  }
 ],
 "metadata": {
  "kernelspec": {
   "display_name": "Python (fantasyfootballenv)",
   "language": "python",
   "name": "fantasyfootballenv"
  },
  "language_info": {
   "codemirror_mode": {
    "name": "ipython",
    "version": 3
   },
   "file_extension": ".py",
   "mimetype": "text/x-python",
   "name": "python",
   "nbconvert_exporter": "python",
   "pygments_lexer": "ipython3",
   "version": "3.6.6"
  }
 },
 "nbformat": 4,
 "nbformat_minor": 2
}
